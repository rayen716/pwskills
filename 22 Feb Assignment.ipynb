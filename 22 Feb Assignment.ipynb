{
 "cells": [
  {
   "cell_type": "code",
   "execution_count": null,
   "id": "14393190",
   "metadata": {},
   "outputs": [],
   "source": [
    "Q1. Write a python program to extract the video URL of the first five videos?\n",
    "Ans1. import requests\n",
    "from bs4 import BeautifulSoup\n",
    "url = \"https://www.youtube.com/@PW-Foundation/videos\"\n",
    "response = requests.get(url)\n",
    "soup = BeautifulSoup(response.content, 'html.parser')\n",
    "video_links = soup.find_all('a', {'class': 'yt-simple-endpoint style-scope ytd-grid-video-renderer'})\n",
    "for i in range(5):\n",
    "    video_url = \"https://www.youtube.com\" + video_links[i]['href']\n",
    "    print(video_url)"
   ]
  },
  {
   "cell_type": "code",
   "execution_count": null,
   "id": "768ea643",
   "metadata": {},
   "outputs": [],
   "source": [
    "Q2. Write a python program to extract the URL of the video thumbnails of the first five videos?\n",
    "Ans2. import requests\n",
    "from bs4 import BeautifulSoup\n",
    "url = \"https://www.youtube.com/@PW-Foundation/videos\"\n",
    "response = requests.get(url)\n",
    "soup = BeautifulSoup(response.content, 'html.parser')\n",
    "video_links = soup.find_all('a', {'class': 'yt-simple-endpoint style-scope ytd-grid-video-renderer'})\n",
    "for i in range(5):\n",
    "    thumbnail_url = video_links[i].find('img', {'class': 'style-scope yt-img-shadow'})['src']\n",
    "    print(thumbnail_url)"
   ]
  },
  {
   "cell_type": "code",
   "execution_count": null,
   "id": "b8a0d9da",
   "metadata": {},
   "outputs": [],
   "source": [
    "Q3. Write a python program to extract the title of the first five videos?\n",
    "Ans3. import requests\n",
    "from bs4 import BeautifulSoup\n",
    "url = \"https://www.youtube.com/@PW-Foundation/videos\"\n",
    "response = requests.get(url)\n",
    "soup = BeautifulSoup(response.content, 'html.parser')\n",
    "video_links = soup.find_all('a', {'class': 'yt-simple-endpoint style-scope ytd-grid-video-renderer'})\n",
    "for i in range(5):\n",
    "    title = video_links[i].find('h3', {'class': 'style-scope ytd-grid-video-renderer'}).text\n",
    "    print(title)\n"
   ]
  },
  {
   "cell_type": "code",
   "execution_count": null,
   "id": "70c81a2c",
   "metadata": {},
   "outputs": [],
   "source": [
    "Q4. Write a python program to extract the number of views of the first five videos?\n",
    "Ans4. import requests\n",
    "from bs4 import BeautifulSoup\n",
    "url = \"https://www.youtube.com/@PW-Foundation/videos\"\n",
    "response = requests.get(url)\n",
    "soup = BeautifulSoup(response.content, 'html.parser')\n",
    "video_links = soup.find_all('a', {'class': 'yt-simple-endpoint style-scope ytd-grid-video-renderer'})\n",
    "for i in range(5):\n",
    "    views = video_links[i].find('span', {'class': 'style-scope ytd-grid-video-renderer'}).text.strip()\n",
    "    print(views)\n"
   ]
  },
  {
   "cell_type": "code",
   "execution_count": null,
   "id": "3d9e545c",
   "metadata": {},
   "outputs": [],
   "source": [
    "Q5. Write a python program to extract the time of posting of video for the first five videos?\n",
    "Ans5. import requests\n",
    "from bs4 import BeautifulSoup\n",
    "url = \"https://www.youtube.com/@PW-Foundation/videos\"\n",
    "response = requests.get(url)\n",
    "soup = BeautifulSoup(response.content, 'html.parser')\n",
    "video_links = soup.find_all('a', {'class': 'yt-simple-endpoint style-scope ytd-grid-video-renderer'})\n",
    "for i in range(5):\n",
    "    time = video_links[i].find('span', {'class': 'style-scope ytd-grid-video-renderer'}).text.strip()\n",
    "    print(time)"
   ]
  }
 ],
 "metadata": {
  "kernelspec": {
   "display_name": "Python 3 (ipykernel)",
   "language": "python",
   "name": "python3"
  },
  "language_info": {
   "codemirror_mode": {
    "name": "ipython",
    "version": 3
   },
   "file_extension": ".py",
   "mimetype": "text/x-python",
   "name": "python",
   "nbconvert_exporter": "python",
   "pygments_lexer": "ipython3",
   "version": "3.9.13"
  }
 },
 "nbformat": 4,
 "nbformat_minor": 5
}
